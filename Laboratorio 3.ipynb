{
 "cells": [
  {
   "metadata": {},
   "cell_type": "markdown",
   "source": [
    "Nombre: Francisco Gonzalez\n",
    "\n",
    "Carnet: 24002914\n",
    "\n",
    "# Laboratorio 3: Estructuras de datos"
   ],
   "id": "e9fee56da300c95c"
  },
  {
   "metadata": {
    "ExecuteTime": {
     "end_time": "2025-03-04T20:31:36.481638Z",
     "start_time": "2025-03-04T20:31:36.472155Z"
    }
   },
   "cell_type": "code",
   "source": [
    "def mostrar_binario(numero: int):\n",
    "    \"\"\"\n",
    "    Procedimiento que recibe un número entero en base decimal y muestra su representación en binario.\n",
    "\n",
    "    :param numero: Número entero en base decimal.\n",
    "    \"\"\"\n",
    "    # Convertir el número a binario usando la función bin() y eliminar el prefijo '0b'\n",
    "    binario = bin(numero)[2:]\n",
    "    print(f\"El número {numero} en binario es: {binario}\")\n",
    "\n",
    "# Ejemplo de uso\n",
    "mostrar_binario(25)  # Salida esperada: El número 25 en binario es: 11001\n"
   ],
   "id": "eeae7e1f7ab005af",
   "outputs": [
    {
     "name": "stdout",
     "output_type": "stream",
     "text": [
      "El número 25 en binario es: 11001\n"
     ]
    }
   ],
   "execution_count": 1
  },
  {
   "metadata": {
    "ExecuteTime": {
     "end_time": "2025-03-04T20:31:44.705258Z",
     "start_time": "2025-03-04T20:31:44.699035Z"
    }
   },
   "cell_type": "code",
   "source": [
    "def es_primo(numero: int) -> bool:\n",
    "    \"\"\"\n",
    "    Función que determina si un número entero es primo.\n",
    "\n",
    "    :param numero: Número entero a evaluar.\n",
    "    :return: True si el número es primo, False en caso contrario.\n",
    "    \"\"\"\n",
    "    if numero < 2:\n",
    "        return False\n",
    "    for i in range(2, int(numero ** 0.5) + 1):\n",
    "        if numero % i == 0:\n",
    "            return False\n",
    "    return True\n",
    "\n",
    "# Ejemplo de uso\n",
    "print(es_primo(29))  # Salida esperada: True\n",
    "print(es_primo(30))  # Salida esperada: False\n"
   ],
   "id": "9b9b355841733943",
   "outputs": [
    {
     "name": "stdout",
     "output_type": "stream",
     "text": [
      "True\n",
      "False\n"
     ]
    }
   ],
   "execution_count": 2
  },
  {
   "metadata": {
    "ExecuteTime": {
     "end_time": "2025-03-04T20:31:58.407706Z",
     "start_time": "2025-03-04T20:31:58.401618Z"
    }
   },
   "cell_type": "code",
   "source": [
    "def desviacion_estandar(lista: list) -> float:\n",
    "    \"\"\"\n",
    "    Función que calcula la desviación estándar de un conjunto de números sin utilizar funciones predefinidas.\n",
    "\n",
    "    :param lista: Lista de números.\n",
    "    :return: Desviación estándar del conjunto de números.\n",
    "    \"\"\"\n",
    "    # Calcular la media\n",
    "    suma = 0\n",
    "    n = len(lista)\n",
    "    for num in lista:\n",
    "        suma += num\n",
    "    media = suma / n\n",
    "\n",
    "    # Calcular la suma de los cuadrados de las diferencias respecto a la media\n",
    "    suma_cuadrados = 0\n",
    "    for num in lista:\n",
    "        suma_cuadrados += (num - media) ** 2\n",
    "\n",
    "    # Calcular la desviación estándar (raíz cuadrada de la varianza)\n",
    "    varianza = suma_cuadrados / n\n",
    "    desviacion = varianza ** 0.5\n",
    "\n",
    "    return desviacion\n",
    "\n",
    "# Ejemplo de uso\n",
    "numeros = [10, 12, 23, 23, 16, 23, 21, 16]\n",
    "print(desviacion_estandar(numeros))  # Salida esperada: Aproximadamente 4.898\n"
   ],
   "id": "c86cb3c641bbfeaa",
   "outputs": [
    {
     "name": "stdout",
     "output_type": "stream",
     "text": [
      "4.898979485566356\n"
     ]
    }
   ],
   "execution_count": 3
  },
  {
   "metadata": {
    "ExecuteTime": {
     "end_time": "2025-03-04T20:32:11.140311Z",
     "start_time": "2025-03-04T20:32:11.133480Z"
    }
   },
   "cell_type": "code",
   "source": [
    "def ordenamiento_burbuja(arreglo: list) -> list:\n",
    "    \"\"\"\n",
    "    Función que implementa el algoritmo de ordenamiento burbuja.\n",
    "\n",
    "    :param arreglo: Lista de números desordenados.\n",
    "    :return: Nueva lista con los elementos ordenados.\n",
    "    \"\"\"\n",
    "    n = len(arreglo)\n",
    "    arr_ordenado = arreglo[:]  # Copia del arreglo original para no modificarlo\n",
    "\n",
    "    # Algoritmo de ordenamiento burbuja\n",
    "    for i in range(n - 1):\n",
    "        for j in range(n - 1 - i):\n",
    "            if arr_ordenado[j] > arr_ordenado[j + 1]:\n",
    "                arr_ordenado[j], arr_ordenado[j + 1] = arr_ordenado[j + 1], arr_ordenado[j]\n",
    "\n",
    "    return arr_ordenado\n",
    "\n",
    "def main():\n",
    "    \"\"\"\n",
    "    Función principal para probar el ordenamiento burbuja.\n",
    "    \"\"\"\n",
    "    numeros = [64, 34, 25, 12, 22, 11, 90]\n",
    "    print(\"Arreglo original:\", numeros)\n",
    "    print(\"Arreglo ordenado:\", ordenamiento_burbuja(numeros))\n",
    "\n",
    "# Ejecutar la función main\n",
    "if __name__ == \"__main__\":\n",
    "    main()\n"
   ],
   "id": "9c9529b42c056353",
   "outputs": [
    {
     "name": "stdout",
     "output_type": "stream",
     "text": [
      "Arreglo original: [64, 34, 25, 12, 22, 11, 90]\n",
      "Arreglo ordenado: [11, 12, 22, 25, 34, 64, 90]\n"
     ]
    }
   ],
   "execution_count": 4
  },
  {
   "metadata": {
    "ExecuteTime": {
     "end_time": "2025-03-04T20:32:28.870357Z",
     "start_time": "2025-03-04T20:32:28.865239Z"
    }
   },
   "cell_type": "code",
   "source": [
    "def tupla_a_string(tupla: tuple) -> str:\n",
    "    \"\"\"\n",
    "    Función que convierte una tupla de elementos (números o letras) en un string.\n",
    "\n",
    "    :param tupla: Tupla de elementos.\n",
    "    :return: Cadena de texto con los elementos concatenados.\n",
    "    \"\"\"\n",
    "    return ''.join(str(elemento) for elemento in tupla)\n",
    "\n",
    "# Ejemplo de uso\n",
    "entrada = (10, 20, 40, 5, 70)\n",
    "salida = tupla_a_string(entrada)\n",
    "print(salida)  # Salida esperada: \"102040570\"\n"
   ],
   "id": "eb3040260000dc47",
   "outputs": [
    {
     "name": "stdout",
     "output_type": "stream",
     "text": [
      "102040570\n"
     ]
    }
   ],
   "execution_count": 5
  },
  {
   "metadata": {
    "ExecuteTime": {
     "end_time": "2025-03-04T20:32:39.401856Z",
     "start_time": "2025-03-04T20:32:39.396931Z"
    }
   },
   "cell_type": "code",
   "source": [
    "def eliminar_tuplas_vacias(lista_tuplas: list) -> list:\n",
    "    \"\"\"\n",
    "    Función que elimina las tuplas vacías de una lista de tuplas.\n",
    "\n",
    "    :param lista_tuplas: Lista de tuplas.\n",
    "    :return: Nueva lista sin las tuplas vacías.\n",
    "    \"\"\"\n",
    "    return [tupla for tupla in lista_tuplas if tupla]\n",
    "\n",
    "# Ejemplo de uso\n",
    "entrada = [(), (), ('X',), ('a', 'b'), ('a', 'b', 'c'), ('d',)]\n",
    "salida = eliminar_tuplas_vacias(entrada)\n",
    "print(salida)  # Salida esperada: [('X',), ('a', 'b'), ('a', 'b', 'c'), ('d',)]\n"
   ],
   "id": "727cb261d4b7f470",
   "outputs": [
    {
     "name": "stdout",
     "output_type": "stream",
     "text": [
      "[('X',), ('a', 'b'), ('a', 'b', 'c'), ('d',)]\n"
     ]
    }
   ],
   "execution_count": 6
  },
  {
   "metadata": {
    "ExecuteTime": {
     "end_time": "2025-03-04T20:32:49.378997Z",
     "start_time": "2025-03-04T20:32:49.373473Z"
    }
   },
   "cell_type": "code",
   "source": [
    "def promedios_tuplas(tuplas: tuple) -> tuple:\n",
    "    \"\"\"\n",
    "    Función que calcula el promedio de cada tupla dentro de una tupla de tuplas.\n",
    "\n",
    "    :param tuplas: Tupla de tuplas con números.\n",
    "    :return: Tupla con los promedios de cada tupla individual.\n",
    "    \"\"\"\n",
    "    return tuple(sum(tupla) / len(tupla) for tupla in tuplas)\n",
    "\n",
    "# Ejemplo de uso\n",
    "entrada = ((10, 10, 10, 12), (30, 45, 56, 45), (81, 80, 39, 32))\n",
    "salida = promedios_tuplas(entrada)\n",
    "print(salida)  # Salida esperada: (10.5, 44, 58)\n"
   ],
   "id": "7dd1bf819c23857d",
   "outputs": [
    {
     "name": "stdout",
     "output_type": "stream",
     "text": [
      "(10.5, 44.0, 58.0)\n"
     ]
    }
   ],
   "execution_count": 7
  },
  {
   "metadata": {
    "ExecuteTime": {
     "end_time": "2025-03-04T20:32:59.435540Z",
     "start_time": "2025-03-04T20:32:59.428772Z"
    }
   },
   "cell_type": "code",
   "source": [
    "class Libro:\n",
    "    \"\"\"\n",
    "    Clase que representa un libro con su título, autor, número de páginas y estado de lectura.\n",
    "    \"\"\"\n",
    "\n",
    "    def __init__(self, titulo: str, autor: str, paginas: int):\n",
    "        \"\"\"\n",
    "        Inicializa un nuevo libro con su información.\n",
    "\n",
    "        :param titulo: Título del libro.\n",
    "        :param autor: Autor del libro.\n",
    "        :param paginas: Número de páginas del libro.\n",
    "        \"\"\"\n",
    "        self.titulo = titulo\n",
    "        self.autor = autor\n",
    "        self.paginas = paginas\n",
    "        self.leido = False  # Inicialmente el libro no ha sido leído\n",
    "\n",
    "    def marcar_como_leido(self):\n",
    "        \"\"\"\n",
    "        Marca el libro como leído.\n",
    "        \"\"\"\n",
    "        self.leido = True\n",
    "\n",
    "    def descripcion(self) -> str:\n",
    "        \"\"\"\n",
    "        Retorna una descripción legible del libro con todos sus detalles.\n",
    "\n",
    "        :return: Cadena con la información del libro.\n",
    "        \"\"\"\n",
    "        estado = \"Leído\" if self.leido else \"No leído\"\n",
    "        return f\"Título: {self.titulo}, Autor: {self.autor}, Páginas: {self.paginas}, Estado: {estado}\"\n",
    "\n",
    "# Ejemplo de uso\n",
    "libro1 = Libro(\"1984\", \"George Orwell\", 328)\n",
    "print(libro1.descripcion())  # Salida esperada: Título: 1984, Autor: George Orwell, Páginas: 328, Estado: No leído\n",
    "\n",
    "libro1.marcar_como_leido()\n",
    "print(libro1.descripcion())  # Salida esperada: Título: 1984, Autor: George Orwell, Páginas: 328, Estado: Leído\n"
   ],
   "id": "5d07411119fa2232",
   "outputs": [
    {
     "name": "stdout",
     "output_type": "stream",
     "text": [
      "Título: 1984, Autor: George Orwell, Páginas: 328, Estado: No leído\n",
      "Título: 1984, Autor: George Orwell, Páginas: 328, Estado: Leído\n"
     ]
    }
   ],
   "execution_count": 8
  },
  {
   "metadata": {
    "ExecuteTime": {
     "end_time": "2025-03-04T20:33:11.837149Z",
     "start_time": "2025-03-04T20:33:11.830245Z"
    }
   },
   "cell_type": "code",
   "source": [
    "import math\n",
    "\n",
    "class Circulo:\n",
    "    \"\"\"\n",
    "    Clase que representa un círculo con un radio dado.\n",
    "    \"\"\"\n",
    "\n",
    "    def __init__(self, radio: float):\n",
    "        \"\"\"\n",
    "        Inicializa un nuevo círculo con su radio.\n",
    "\n",
    "        :param radio: Radio del círculo.\n",
    "        \"\"\"\n",
    "        self.radio = radio\n",
    "\n",
    "    def calcular_area(self) -> float:\n",
    "        \"\"\"\n",
    "        Calcula el área del círculo.\n",
    "\n",
    "        :return: Área del círculo.\n",
    "        \"\"\"\n",
    "        return math.pi * (self.radio ** 2)\n",
    "\n",
    "    def calcular_circunferencia(self) -> float:\n",
    "        \"\"\"\n",
    "        Calcula la circunferencia del círculo.\n",
    "\n",
    "        :return: Circunferencia del círculo.\n",
    "        \"\"\"\n",
    "        return 2 * math.pi * self.radio\n",
    "\n",
    "# Ejemplo de uso\n",
    "circulo1 = Circulo(5)\n",
    "print(f\"Área: {circulo1.calcular_area():.2f}\")  # Salida esperada: Área: 78.54\n",
    "print(f\"Circunferencia: {circulo1.calcular_circunferencia():.2f}\")  # Salida esperada: Circunferencia: 31.42\n"
   ],
   "id": "b87a21401a7bbdcb",
   "outputs": [
    {
     "name": "stdout",
     "output_type": "stream",
     "text": [
      "Área: 78.54\n",
      "Circunferencia: 31.42\n"
     ]
    }
   ],
   "execution_count": 9
  }
 ],
 "metadata": {
  "kernelspec": {
   "display_name": "Python 3",
   "language": "python",
   "name": "python3"
  },
  "language_info": {
   "codemirror_mode": {
    "name": "ipython",
    "version": 2
   },
   "file_extension": ".py",
   "mimetype": "text/x-python",
   "name": "python",
   "nbconvert_exporter": "python",
   "pygments_lexer": "ipython2",
   "version": "2.7.6"
  }
 },
 "nbformat": 4,
 "nbformat_minor": 5
}
